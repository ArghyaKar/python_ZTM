{
 "cells": [
  {
   "cell_type": "code",
   "execution_count": 1,
   "id": "2478ab38",
   "metadata": {},
   "outputs": [
    {
     "name": "stdout",
     "output_type": "stream",
     "text": [
      "this is outside the function\n"
     ]
    }
   ],
   "source": [
    "#collection of codes\n",
    "def function1():\n",
    "    print(\"afffff\")\n",
    "    print(\"affff1111\")\n",
    "print(\"this is outside the function\")    "
   ]
  },
  {
   "cell_type": "code",
   "execution_count": 3,
   "id": "a52332e8",
   "metadata": {},
   "outputs": [
    {
     "name": "stdout",
     "output_type": "stream",
     "text": [
      "afffff\n",
      "affff\n",
      "afffff\n",
      "affff\n"
     ]
    }
   ],
   "source": [
    "function1()\n",
    "function1()\n"
   ]
  },
  {
   "cell_type": "code",
   "execution_count": 11,
   "id": "e86805ac",
   "metadata": {},
   "outputs": [
    {
     "name": "stdout",
     "output_type": "stream",
     "text": [
      "6\n"
     ]
    }
   ],
   "source": [
    "# a mapping\n",
    "# input or an argument\n",
    "def function2(x):\n",
    "    return 2*x\n",
    "a = function2 (3)\n",
    "print (a)"
   ]
  },
  {
   "cell_type": "code",
   "execution_count": 9,
   "id": "6ef9a109",
   "metadata": {},
   "outputs": [],
   "source": [
    "\n",
    "#return value or o/p"
   ]
  },
  {
   "cell_type": "code",
   "execution_count": 13,
   "id": "f15c4f83",
   "metadata": {},
   "outputs": [
    {
     "ename": "SyntaxError",
     "evalue": "invalid syntax (<ipython-input-13-a28820aeb7e4>, line 1)",
     "output_type": "error",
     "traceback": [
      "\u001b[1;36m  File \u001b[1;32m\"<ipython-input-13-a28820aeb7e4>\"\u001b[1;36m, line \u001b[1;32m1\u001b[0m\n\u001b[1;33m    b = function2($)\u001b[0m\n\u001b[1;37m                  ^\u001b[0m\n\u001b[1;31mSyntaxError\u001b[0m\u001b[1;31m:\u001b[0m invalid syntax\n"
     ]
    }
   ],
   "source": [
    "b = function2($)\n",
    "print (b)\n"
   ]
  },
  {
   "cell_type": "code",
   "execution_count": 15,
   "id": "46df3fc0",
   "metadata": {},
   "outputs": [
    {
     "ename": "TypeError",
     "evalue": "function2() missing 1 required positional argument: 'x'",
     "output_type": "error",
     "traceback": [
      "\u001b[1;31m---------------------------------------------------------------------------\u001b[0m",
      "\u001b[1;31mTypeError\u001b[0m                                 Traceback (most recent call last)",
      "\u001b[1;32m<ipython-input-15-9f9e7aec7a86>\u001b[0m in \u001b[0;36m<module>\u001b[1;34m\u001b[0m\n\u001b[1;32m----> 1\u001b[1;33m \u001b[0md\u001b[0m \u001b[1;33m=\u001b[0m \u001b[0mfunction2\u001b[0m\u001b[1;33m(\u001b[0m\u001b[1;33m)\u001b[0m\u001b[1;33m\u001b[0m\u001b[1;33m\u001b[0m\u001b[0m\n\u001b[0m",
      "\u001b[1;31mTypeError\u001b[0m: function2() missing 1 required positional argument: 'x'"
     ]
    }
   ],
   "source": [
    "d = function2()"
   ]
  },
  {
   "cell_type": "code",
   "execution_count": 17,
   "id": "8c9df9a6",
   "metadata": {},
   "outputs": [
    {
     "name": "stdout",
     "output_type": "stream",
     "text": [
      "6\n"
     ]
    }
   ],
   "source": [
    "def function3(x,y):\n",
    "    return x+y \n",
    "a= function3(1,5)\n",
    "print (a)"
   ]
  },
  {
   "cell_type": "code",
   "execution_count": 22,
   "id": "8a9545ef",
   "metadata": {},
   "outputs": [],
   "source": [
    "def function4(x):\n",
    "    print(x)\n",
    "    print(\"still in the function\")\n",
    "    return 3*x"
   ]
  },
  {
   "cell_type": "code",
   "execution_count": 24,
   "id": "1830664a",
   "metadata": {},
   "outputs": [
    {
     "name": "stdout",
     "output_type": "stream",
     "text": [
      "4\n",
      "still in the function\n",
      "12\n"
     ]
    }
   ],
   "source": [
    "f = function4(4)\n",
    "print (f)"
   ]
  },
  {
   "cell_type": "code",
   "execution_count": 33,
   "id": "a5d15f59",
   "metadata": {},
   "outputs": [],
   "source": [
    "#bmi calculator\n",
    "name1 =  \"A\"\n",
    "weight1 = 80\n",
    "height1 = 6\n",
    "name2 = \"b\"\n",
    "weight2 = 180\n",
    "height2 = 5\n",
    "name3 = \"C\"\n",
    "weight3 = 30\n",
    "height3 = 5\n",
    "\n",
    "def bmi(name, height, weight):\n",
    "    bmi = weight / (height ** 2)\n",
    "    print(\"bmi\")\n",
    "    print(bmi)\n",
    "    if bmi > 25 :\n",
    "        return name +  \"is overweight\"\n",
    "    else:\n",
    "        return name +   \"not overwight\"\n",
    "    \n",
    "    \n"
   ]
  },
  {
   "cell_type": "code",
   "execution_count": 34,
   "id": "324657f9",
   "metadata": {},
   "outputs": [
    {
     "name": "stdout",
     "output_type": "stream",
     "text": [
      "bmi\n",
      "0.0009375\n",
      "bmi\n",
      "0.00015432098765432098\n",
      "bmi\n",
      "0.005555555555555556\n"
     ]
    }
   ],
   "source": [
    "f = bmi(name1,weight1,height1)\n",
    "g = bmi(name2,weight2,height2)\n",
    "h = bmi(name3,weight3,height3)"
   ]
  },
  {
   "cell_type": "code",
   "execution_count": 35,
   "id": "880d1fde",
   "metadata": {},
   "outputs": [
    {
     "name": "stdout",
     "output_type": "stream",
     "text": [
      "Anot overwight\n",
      "bnot overwight\n",
      "Cnot overwight\n"
     ]
    }
   ],
   "source": [
    "print(f)\n",
    "print(g)\n",
    "print(h)"
   ]
  },
  {
   "cell_type": "code",
   "execution_count": 48,
   "id": "0d7d143c",
   "metadata": {},
   "outputs": [
    {
     "name": "stdout",
     "output_type": "stream",
     "text": [
      "miles\n",
      "156\n"
     ]
    }
   ],
   "source": [
    "miles =156\n",
    "print (\"miles\")\n",
    "print(miles)\n",
    "def km(miles):\n",
    "     return 1.6 * miles\n",
    "   \n",
    "\n",
    "    \n"
   ]
  },
  {
   "cell_type": "code",
   "execution_count": 49,
   "id": "cd4b7c30",
   "metadata": {},
   "outputs": [
    {
     "name": "stdout",
     "output_type": "stream",
     "text": [
      "249.60000000000002\n"
     ]
    }
   ],
   "source": [
    "a= km(miles)\n",
    "print(a)"
   ]
  },
  {
   "cell_type": "code",
   "execution_count": null,
   "id": "5671c79b",
   "metadata": {},
   "outputs": [],
   "source": []
  }
 ],
 "metadata": {
  "kernelspec": {
   "display_name": "Python 3",
   "language": "python",
   "name": "python3"
  },
  "language_info": {
   "codemirror_mode": {
    "name": "ipython",
    "version": 3
   },
   "file_extension": ".py",
   "mimetype": "text/x-python",
   "name": "python",
   "nbconvert_exporter": "python",
   "pygments_lexer": "ipython3",
   "version": "3.8.8"
  }
 },
 "nbformat": 4,
 "nbformat_minor": 5
}
